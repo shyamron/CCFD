{
 "cells": [
  {
   "cell_type": "code",
   "execution_count": 49,
   "id": "bbf94776",
   "metadata": {
    "scrolled": false
   },
   "outputs": [
    {
     "name": "stdout",
     "output_type": "stream",
     "text": [
      "<class 'pandas.core.frame.DataFrame'>\n",
      "RangeIndex: 96753 entries, 0 to 96752\n",
      "Data columns (total 10 columns):\n",
      " #   Column             Non-Null Count  Dtype  \n",
      "---  ------             --------------  -----  \n",
      " 0   Recnum             96753 non-null  int64  \n",
      " 1   Cardnum            96753 non-null  int64  \n",
      " 2   Date               96753 non-null  object \n",
      " 3   Merchnum           93374 non-null  object \n",
      " 4   Merch description  96753 non-null  object \n",
      " 5   Merch state        95551 non-null  object \n",
      " 6   Merch zip          92094 non-null  float64\n",
      " 7   Transtype          96753 non-null  object \n",
      " 8   Amount             96753 non-null  float64\n",
      " 9   Fraud              96753 non-null  int64  \n",
      "dtypes: float64(2), int64(3), object(5)\n",
      "memory usage: 7.4+ MB\n",
      "None\n",
      "1202\n",
      "3379\n",
      "0\n",
      "90188\n",
      "84141\n"
     ]
    }
   ],
   "source": [
    "import numpy as np\n",
    "from cmath import nan\n",
    "import pandas as pd\n",
    "from sklearn import preprocessing\n",
    "from sklearn.preprocessing import LabelEncoder\n",
    "\n",
    "data=pd.read_csv('data.csv')\n",
    "us=pd.read_csv('uszips.csv')\n",
    "print(data.info())\n",
    "\n",
    "print(np.count_nonzero(data['Merch state'].isnull().values))\n",
    "print(np.count_nonzero(data['Merchnum'].isnull().values))\n",
    "\n",
    "data['Merch zip'].replace('', np.nan, inplace=True)\n",
    "data.dropna(subset=['Merch zip'], inplace=True)\n",
    "\n",
    "data['Merch state'].replace('', np.nan, inplace=True)\n",
    "data.dropna(subset=['Merch state'], inplace=True)\n",
    "\n",
    "data['Merchnum'].replace('', np.nan, inplace=True)\n",
    "data.dropna(subset=['Merchnum'], inplace=True)\n",
    "\n",
    "print(np.count_nonzero(data.isnull().values))\n",
    "print(len(data))\n",
    "\n",
    "data.drop_duplicates(subset=['Cardnum', 'Merchnum','Merch description','Amount','Date','Merch state'],keep='first',inplace=True)\n",
    "print(len(data))"
   ]
  },
  {
   "cell_type": "code",
   "execution_count": null,
   "id": "839596d8",
   "metadata": {},
   "outputs": [],
   "source": []
  },
  {
   "cell_type": "code",
   "execution_count": null,
   "id": "48c52193",
   "metadata": {
    "scrolled": false
   },
   "outputs": [],
   "source": [
    "\n",
    "\n"
   ]
  },
  {
   "cell_type": "code",
   "execution_count": null,
   "id": "d880fc2f",
   "metadata": {},
   "outputs": [],
   "source": []
  }
 ],
 "metadata": {
  "kernelspec": {
   "display_name": "Python 3 (ipykernel)",
   "language": "python",
   "name": "python3"
  },
  "language_info": {
   "codemirror_mode": {
    "name": "ipython",
    "version": 3
   },
   "file_extension": ".py",
   "mimetype": "text/x-python",
   "name": "python",
   "nbconvert_exporter": "python",
   "pygments_lexer": "ipython3",
   "version": "3.9.7"
  }
 },
 "nbformat": 4,
 "nbformat_minor": 5
}
