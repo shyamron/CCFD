{
 "cells": [
  {
   "cell_type": "code",
   "execution_count": 1,
   "id": "0866b0b8",
   "metadata": {
    "scrolled": false
   },
   "outputs": [
    {
     "name": "stdout",
     "output_type": "stream",
     "text": [
      "<class 'pandas.core.frame.DataFrame'>\n",
      "RangeIndex: 96753 entries, 0 to 96752\n",
      "Data columns (total 10 columns):\n",
      " #   Column             Non-Null Count  Dtype  \n",
      "---  ------             --------------  -----  \n",
      " 0   Recnum             96753 non-null  int64  \n",
      " 1   Cardnum            96753 non-null  int64  \n",
      " 2   Date               96753 non-null  object \n",
      " 3   Merchnum           93374 non-null  object \n",
      " 4   Merch description  96753 non-null  object \n",
      " 5   Merch state        95551 non-null  object \n",
      " 6   Merch zip          92094 non-null  float64\n",
      " 7   Transtype          96753 non-null  object \n",
      " 8   Amount             96753 non-null  float64\n",
      " 9   Fraud              96753 non-null  int64  \n",
      "dtypes: float64(2), int64(3), object(5)\n",
      "memory usage: 7.4+ MB\n",
      "None\n"
     ]
    }
   ],
   "source": [
    "import numpy as np\n",
    "from cmath import nan\n",
    "import pandas as pd\n",
    "from sklearn import preprocessing\n",
    "from sklearn.preprocessing import LabelEncoder\n",
    "from sklearn.model_selection import train_test_split\n",
    "from sklearn.preprocessing import StandardScaler\n",
    "import matplotlib.pyplot as plt\n",
    "import seaborn as sns\n",
    "\n",
    "data=pd.read_csv('data.csv')\n",
    "us=pd.read_csv('uszips.csv')\n",
    "print(data.info())"
   ]
  },
  {
   "cell_type": "code",
   "execution_count": 2,
   "id": "d3c9f1e6",
   "metadata": {},
   "outputs": [
    {
     "name": "stdout",
     "output_type": "stream",
     "text": [
      "Percentage of frauds= 0.9890546029580478\n",
      "Percentage of non frauds= 0.010945397041952187\n"
     ]
    }
   ],
   "source": [
    "# Data exploration\n",
    "data['Fraud'].value_counts()\n",
    "fraud_count=len(data[data['Fraud']==0])\n",
    "nonfraud_count=len(data[data['Fraud']==1])\n",
    "print(\"Percentage of frauds=\",fraud_count/(fraud_count+nonfraud_count))\n",
    "print(\"Percentage of non frauds=\",nonfraud_count/(fraud_count+nonfraud_count))"
   ]
  },
  {
   "cell_type": "code",
   "execution_count": 3,
   "id": "40719ac2",
   "metadata": {},
   "outputs": [
    {
     "data": {
      "image/png": "[encoded data removed]",
      "text/plain": [
       "<Figure size 432x288 with 1 Axes>"
      ]
     },
     "metadata": {
      "needs_background": "light"
     },
     "output_type": "display_data"
    },
    {
     "data": {
      "text/plain": [
       "<Figure size 432x288 with 0 Axes>"
      ]
     },
     "metadata": {},
     "output_type": "display_data"
    }
   ],
   "source": [
    "sns.countplot(x=\"Fraud\",data=data,palette='hls')\n",
    "plt.show()\n",
    "plt.savefig('Fraud_count_plot')"
   ]
  },
  {
   "cell_type": "code",
   "execution_count": 4,
   "id": "fea9dab4",
   "metadata": {},
   "outputs": [
    {
     "name": "stdout",
     "output_type": "stream",
     "text": [
      "1645\n"
     ]
    }
   ],
   "source": [
    "print(len(data.Cardnum.unique()))"
   ]
  },
  {
   "cell_type": "code",
   "execution_count": 5,
   "id": "e76367cd",
   "metadata": {
    "scrolled": false
   },
   "outputs": [
    {
     "name": "stdout",
     "output_type": "stream",
     "text": [
      "1202\n",
      "1149\n"
     ]
    }
   ],
   "source": [
    "#Missing Data fill\n",
    "'''FILL MERCH STATE'''\n",
    "print(np.count_nonzero(data['Merch state'].isnull().values))\n",
    "zip_dict = pd.Series(us.state_id.values,index=us.zip.values).to_dict()\n",
    "data.loc[data['Merch state'].isnull(),'Merch state'] = data['Merch zip'].map(zip_dict)\n",
    "print(np.count_nonzero(data['Merch state'].isnull().values))"
   ]
  },
  {
   "cell_type": "code",
   "execution_count": 6,
   "id": "ecef18bb",
   "metadata": {
    "scrolled": false
   },
   "outputs": [
    {
     "name": "stdout",
     "output_type": "stream",
     "text": [
      "4659\n",
      "1481\n"
     ]
    }
   ],
   "source": [
    "'''FILL MERCH ZIP'''\n",
    "print(np.count_nonzero(data['Merch zip'].isnull().values))\n",
    "state_dict = pd.Series(us.zip.values,index=us.state_id.values).to_dict()\n",
    "data.loc[data['Merch zip'].isnull(),'Merch zip'] = data['Merch state'].map(state_dict)\n",
    "print(np.count_nonzero(data['Merch zip'].isnull().values))"
   ]
  },
  {
   "cell_type": "code",
   "execution_count": 7,
   "id": "233ec94e",
   "metadata": {
    "scrolled": false
   },
   "outputs": [
    {
     "name": "stdout",
     "output_type": "stream",
     "text": [
      "3379\n",
      "3001\n"
     ]
    }
   ],
   "source": [
    "'''FILL MERCH NUM'''\n",
    "print(np.count_nonzero(data['Merchnum'].isnull().values))\n",
    "desc_dict = pd.Series(data.Merchnum.values,index=data['Merch description'].values).to_dict()\n",
    "data.loc[data['Merchnum'].isnull(),'Merchnum'] = data['Merch description'].map(desc_dict)\n",
    "print(np.count_nonzero(data['Merchnum'].isnull().values))"
   ]
  },
  {
   "cell_type": "code",
   "execution_count": 8,
   "id": "691456d6",
   "metadata": {},
   "outputs": [
    {
     "data": {
      "text/plain": [
       "\"FILL MERCH NUM\\nprint(np.count_nonzero(data['Merchnum'].isnull().values))\\nzip1_dict = pd.Series(data.Merchnum.values,index=data['Merch zip'].values).to_dict()\\ndata.loc[data['Merchnum'].isnull(),'Merchnum'] = data['Merch zip'].map(zip1_dict)\\nprint(np.count_nonzero(data['Merchnum'].isnull().values))\\n\""
      ]
     },
     "execution_count": 8,
     "metadata": {},
     "output_type": "execute_result"
    }
   ],
   "source": [
    "'''FILL MERCH NUM\n",
    "print(np.count_nonzero(data['Merchnum'].isnull().values))\n",
    "zip1_dict = pd.Series(data.Merchnum.values,index=data['Merch zip'].values).to_dict()\n",
    "data.loc[data['Merchnum'].isnull(),'Merchnum'] = data['Merch zip'].map(zip1_dict)\n",
    "print(np.count_nonzero(data['Merchnum'].isnull().values))\n",
    "'''"
   ]
  },
  {
   "cell_type": "code",
   "execution_count": 9,
   "id": "4feff892",
   "metadata": {
    "scrolled": true
   },
   "outputs": [
    {
     "name": "stdout",
     "output_type": "stream",
     "text": [
      "0\n",
      "93458\n",
      "87014\n"
     ]
    }
   ],
   "source": [
    "'''REMOVE NULL AND DUPLICATE'''\n",
    "data['Merch zip'].replace('', np.nan, inplace=True)\n",
    "data.dropna(subset=['Merch zip'], inplace=True)\n",
    "\n",
    "data['Merch state'].replace('', np.nan, inplace=True)\n",
    "data.dropna(subset=['Merch state'], inplace=True)\n",
    "\n",
    "data['Merchnum'].replace('', np.nan, inplace=True)\n",
    "data.dropna(subset=['Merchnum'], inplace=True)\n",
    "\n",
    "print(np.count_nonzero(data.isnull().values))\n",
    "print(len(data))\n",
    "\n",
    "data.drop_duplicates(subset=['Cardnum', 'Merchnum','Merch description','Amount','Date','Merch state'],keep='first',inplace=True)\n",
    "print(len(data))"
   ]
  },
  {
   "cell_type": "code",
   "execution_count": 10,
   "id": "fe386a1e",
   "metadata": {
    "scrolled": true
   },
   "outputs": [
    {
     "name": "stdout",
     "output_type": "stream",
     "text": [
      "<class 'pandas.core.frame.DataFrame'>\n",
      "Int64Index: 87014 entries, 0 to 96752\n",
      "Data columns (total 10 columns):\n",
      " #   Column             Non-Null Count  Dtype  \n",
      "---  ------             --------------  -----  \n",
      " 0   Recnum             87014 non-null  int64  \n",
      " 1   Cardnum            87014 non-null  int64  \n",
      " 2   Date               87014 non-null  object \n",
      " 3   Merchnum           87014 non-null  object \n",
      " 4   Merch description  87014 non-null  object \n",
      " 5   Merch state        87014 non-null  object \n",
      " 6   Merch zip          87014 non-null  float64\n",
      " 7   Transtype          87014 non-null  object \n",
      " 8   Amount             87014 non-null  float64\n",
      " 9   Fraud              87014 non-null  int64  \n",
      "dtypes: float64(2), int64(3), object(5)\n",
      "memory usage: 7.3+ MB\n",
      "None\n"
     ]
    }
   ],
   "source": [
    "print(data.info())"
   ]
  },
  {
   "cell_type": "code",
   "execution_count": 11,
   "id": "d6cda72a",
   "metadata": {
    "scrolled": false
   },
   "outputs": [
    {
     "name": "stdout",
     "output_type": "stream",
     "text": [
      "0         4382\n",
      "2         8014\n",
      "5         4380\n",
      "6         4386\n",
      "7         7146\n",
      "         ...  \n",
      "96748     1461\n",
      "96749     6872\n",
      "96750    10718\n",
      "96751     2008\n",
      "96752    10394\n",
      "Name: Merch description, Length: 87014, dtype: int32\n",
      "0            0\n",
      "2            1\n",
      "5            2\n",
      "6            3\n",
      "7            4\n",
      "         ...  \n",
      "96748    87009\n",
      "96749    87010\n",
      "96750    87011\n",
      "96751    87012\n",
      "96752    87013\n",
      "Name: Recnum, Length: 87014, dtype: int64\n",
      "0         657\n",
      "2         177\n",
      "5         318\n",
      "6         645\n",
      "7         662\n",
      "         ... \n",
      "96748    1333\n",
      "96749     946\n",
      "96750     951\n",
      "96751    1096\n",
      "96752    1083\n",
      "Name: Cardnum, Length: 87014, dtype: int64\n",
      "0        2530\n",
      "2        1846\n",
      "5        2530\n",
      "6        2530\n",
      "7        3171\n",
      "         ... \n",
      "96748    1365\n",
      "96749    4846\n",
      "96750    1844\n",
      "96751    5062\n",
      "96752    5677\n",
      "Name: Merchnum, Length: 87014, dtype: int32\n",
      "0          0\n",
      "2          0\n",
      "5          0\n",
      "6          0\n",
      "7          0\n",
      "        ... \n",
      "96748    364\n",
      "96749    364\n",
      "96750    364\n",
      "96751    364\n",
      "96752    364\n",
      "Name: Date, Length: 87014, dtype: int32\n",
      "0        43\n",
      "2        20\n",
      "5        43\n",
      "6        43\n",
      "7        35\n",
      "         ..\n",
      "96748    17\n",
      "96749    35\n",
      "96750    35\n",
      "96751     4\n",
      "96752    31\n",
      "Name: Merch state, Length: 87014, dtype: int32\n",
      "0        2087\n",
      "2        1102\n",
      "5        2087\n",
      "6        2087\n",
      "7        2353\n",
      "         ... \n",
      "96748    2153\n",
      "96749    2318\n",
      "96750    2276\n",
      "96751    4001\n",
      "96752     459\n",
      "Name: Merch zip, Length: 87014, dtype: int64\n",
      "0        1\n",
      "2        1\n",
      "5        1\n",
      "6        1\n",
      "7        1\n",
      "        ..\n",
      "96748    1\n",
      "96749    1\n",
      "96750    1\n",
      "96751    1\n",
      "96752    1\n",
      "Name: Transtype, Length: 87014, dtype: int32\n",
      "0          248\n",
      "2        12356\n",
      "5          253\n",
      "6          248\n",
      "7        14608\n",
      "         ...  \n",
      "96748     6887\n",
      "96749     9111\n",
      "96750    19079\n",
      "96751    32716\n",
      "96752    23142\n",
      "Name: Amount, Length: 87014, dtype: int64\n",
      "0        0\n",
      "2        0\n",
      "5        0\n",
      "6        0\n",
      "7        0\n",
      "        ..\n",
      "96748    0\n",
      "96749    0\n",
      "96750    0\n",
      "96751    0\n",
      "96752    0\n",
      "Name: Fraud, Length: 87014, dtype: int64\n",
      "<class 'pandas.core.frame.DataFrame'>\n",
      "Int64Index: 87014 entries, 0 to 96752\n",
      "Data columns (total 10 columns):\n",
      " #   Column             Non-Null Count  Dtype\n",
      "---  ------             --------------  -----\n",
      " 0   Recnum             87014 non-null  int64\n",
      " 1   Cardnum            87014 non-null  int64\n",
      " 2   Date               87014 non-null  int32\n",
      " 3   Merchnum           87014 non-null  int32\n",
      " 4   Merch description  87014 non-null  int32\n",
      " 5   Merch state        87014 non-null  int32\n",
      " 6   Merch zip          87014 non-null  int64\n",
      " 7   Transtype          87014 non-null  int32\n",
      " 8   Amount             87014 non-null  int64\n",
      " 9   Fraud              87014 non-null  int64\n",
      "dtypes: int32(5), int64(5)\n",
      "memory usage: 5.6 MB\n",
      "None\n"
     ]
    }
   ],
   "source": [
    "\n",
    "# Convert categorical data into numerical data\n",
    "\n",
    "encoder=preprocessing.LabelEncoder()\n",
    "data['Merch description']=encoder.fit_transform(data['Merch description'])\n",
    "print(data['Merch description'])\n",
    "\n",
    "\n",
    "data['Recnum']=encoder.fit_transform(data['Recnum'])\n",
    "print(data['Recnum'])\n",
    "\n",
    "\n",
    "data['Cardnum']=encoder.fit_transform(data['Cardnum'])\n",
    "print(data['Cardnum'])\n",
    "\n",
    "data['Merchnum']=encoder.fit_transform(data['Merchnum'])\n",
    "print(data['Merchnum'])\n",
    "\n",
    "data['Date']=encoder.fit_transform(data['Date'])\n",
    "print(data['Date'])\n",
    "\n",
    "data['Merch state']=encoder.fit_transform(data['Merch state'])\n",
    "print(data['Merch state'])\n",
    "\n",
    "data['Merch zip']=encoder.fit_transform(data['Merch zip'])\n",
    "print(data['Merch zip'])\n",
    "\n",
    "\n",
    "data['Transtype']=encoder.fit_transform(data['Transtype'])\n",
    "print(data['Transtype'])\n",
    "\n",
    "\n",
    "data['Amount']=encoder.fit_transform(data['Amount'])\n",
    "print(data['Amount'])\n",
    "\n",
    "\n",
    "data['Fraud']=encoder.fit_transform(data['Fraud'])\n",
    "print(data['Fraud'])\n",
    "\n",
    "print(data.info())\n",
    "#data.to_csv('new.csv')\n",
    "\n"
   ]
  },
  {
   "cell_type": "code",
   "execution_count": 12,
   "id": "7e04d75f",
   "metadata": {
    "scrolled": true
   },
   "outputs": [
    {
     "data": {
      "text/plain": [
       "\"\\nnon_fraud= data[data.Fraud == 0]\\nfraud= data[data.Fraud == 1]\\n\\nprint(non_fraud.shape)\\nprint(fraud.shape)\\n\\nnon_fraud_sample=non_fraud.sample(n=1059)\\n\\nnew_dataset=pd.concat([non_fraud_sample,fraud],axis=0)\\nprint(new_dataset.head())\\n\\nprint(new_dataset['Fraud'].value_counts())\\n\\nx= new_dataset.drop(columns='Fraud',axis=1)\\ny=new_dataset['Fraud']\""
      ]
     },
     "execution_count": 12,
     "metadata": {},
     "output_type": "execute_result"
    }
   ],
   "source": [
    "# Splitting data\n",
    "\n",
    "'''\n",
    "non_fraud= data[data.Fraud == 0]\n",
    "fraud= data[data.Fraud == 1]\n",
    "\n",
    "print(non_fraud.shape)\n",
    "print(fraud.shape)\n",
    "\n",
    "non_fraud_sample=non_fraud.sample(n=1059)\n",
    "\n",
    "new_dataset=pd.concat([non_fraud_sample,fraud],axis=0)\n",
    "print(new_dataset.head())\n",
    "\n",
    "print(new_dataset['Fraud'].value_counts())\n",
    "\n",
    "x= new_dataset.drop(columns='Fraud',axis=1)\n",
    "y=new_dataset['Fraud']'''"
   ]
  },
  {
   "cell_type": "code",
   "execution_count": 13,
   "id": "a1c5258f",
   "metadata": {},
   "outputs": [
    {
     "name": "stdout",
     "output_type": "stream",
     "text": [
      "87014\n",
      "87014\n",
      "(69611, 8)\n",
      "(17403, 8)\n",
      "(69611,)\n",
      "(17403,)\n",
      "[0 0 0 0 0 0 0 0 0 0] \n",
      "\n",
      "\n"
     ]
    },
    {
     "data": {
      "text/plain": [
       "\"\\n#for sklearn\\ny_train=y_train.astype('int')\\ny_test=y_test.astype('int')\\n\""
      ]
     },
     "execution_count": 13,
     "metadata": {},
     "output_type": "execute_result"
    }
   ],
   "source": [
    "# Splitting data\n",
    "\n",
    "x= data.iloc[:,:8].values\n",
    "y= data.iloc[:,9].values\n",
    "\n",
    "print(len(x))\n",
    "print(len(y))\n",
    "X_train,X_test,y_train,y_test=train_test_split(x,y,train_size=0.8,test_size=0.2,stratify=y)\n",
    "print(X_train.shape)\n",
    "print(X_test.shape)\n",
    "print(y_train.shape)\n",
    "print(y_test.shape)\n",
    "print(y_train[:10],'\\n\\n')\n",
    "y_train=y_train.T\n",
    "y_test=y_test.T\n",
    "'''\n",
    "x_train_norm=X_train.T\n",
    "x_test_norm=X_test.T\n",
    "y_train=y_train.astype('int').T\n",
    "y_test=y_test.astype('int').T'''\n",
    "'''\n",
    "#for sklearn\n",
    "y_train=y_train.astype('int')\n",
    "y_test=y_test.astype('int')\n",
    "'''"
   ]
  },
  {
   "cell_type": "code",
   "execution_count": 14,
   "id": "d782a4a9",
   "metadata": {
    "scrolled": true
   },
   "outputs": [
    {
     "name": "stdout",
     "output_type": "stream",
     "text": [
      "      0         1         2         3         4         5         6      \\\n",
      "0  0.170128 -1.018861  1.021087  0.724148  0.105370 -0.754540 -1.402435   \n",
      "1 -0.241905 -1.159810 -0.456783  0.900222  1.129115  1.287938  1.383700   \n",
      "2 -0.198236  0.452124  1.198124  1.714586 -0.657313 -0.341697 -0.819903   \n",
      "3 -0.887763 -1.426046  0.056518  0.364646  0.749672  0.644812 -0.302158   \n",
      "4 -0.821157  1.045716 -1.497349 -0.437516  0.208116  1.291092  0.539833   \n",
      "5  1.148278  1.214853  1.281429  1.148278  1.281429  0.549099 -0.249807   \n",
      "6  1.091626  1.282636 -0.703538  1.079223 -0.909432  0.041484  0.454099   \n",
      "7  0.003790  0.003790  0.003790  0.003790  0.003790  0.003790  0.003790   \n",
      "\n",
      "      7         8         9      ...     69601     69602     69603     69604  \\\n",
      "0  0.211616  0.838548  1.560828  ... -1.524870  0.336636 -0.401634 -0.165117   \n",
      "1  0.423752 -1.337319  1.322973  ... -0.552544  0.435430  1.383700 -1.299949   \n",
      "2  0.375611 -0.523416 -0.724262  ...  1.236381  1.705022  0.241713 -0.437339   \n",
      "3 -0.866253 -0.010700 -0.503275  ... -0.324743 -1.034030 -0.324743  1.211058   \n",
      "4  0.337183 -1.126467  1.777689  ... -0.849047  1.240948 -0.486473 -0.548484   \n",
      "5 -1.581316 -1.514741 -0.316382  ... -0.449533  0.549099 -1.115288  1.081702   \n",
      "6  1.308270  1.409976  0.307741  ... -0.848243  0.110115 -0.447204 -0.061876   \n",
      "7  0.003790  0.003790  0.003790  ...  0.003790  0.003790  0.003790  0.003790   \n",
      "\n",
      "      69605     69606     69607     69608     69609     69610  \n",
      "0  1.220850  0.216110  1.048056  0.965478  1.368782  0.508236  \n",
      "1 -1.152803 -1.038357 -0.907561 -1.503149  0.505500  1.301952  \n",
      "2  0.748611  0.375611  1.312894  0.509508 -0.389518 -0.303441  \n",
      "3  0.898628  0.772795 -0.950679 -1.403999  0.081254 -0.897442  \n",
      "4 -1.221116 -0.763002 -1.632647 -0.595660  1.150750 -0.821157  \n",
      "5 -1.315014 -0.249807  1.414580  1.281429 -0.183231  1.148278  \n",
      "6 -0.921008  0.449138  1.830033 -0.901163  0.683146  1.091626  \n",
      "7  0.003790  0.003790  0.003790  0.003790  0.003790  0.003790  \n",
      "\n",
      "[8 rows x 69611 columns] \n",
      "\n",
      "\n",
      "      0         1         2         3         4         5         6      \\\n",
      "0  1.544731  1.002625  0.062498 -0.354937 -1.144667  0.300935 -1.678704   \n",
      "1 -0.303443 -1.523278  1.831852 -0.968382 -0.095065 -0.247251  0.642455   \n",
      "2 -1.063077  0.744482 -1.455193  0.820992 -1.034385  1.184417 -0.823982   \n",
      "3  0.357343  1.108082  1.213477  0.347074 -0.099910 -0.874430 -0.804707   \n",
      "4 -0.049890 -0.325162 -0.545201 -0.234295 -1.390615  0.524410  0.911038   \n",
      "5 -0.316995 -1.179057  1.075566  1.274503  0.279817  1.473441  0.677691   \n",
      "6  0.233535 -0.244943 -0.065825 -0.703519 -1.322970  0.401043  1.737797   \n",
      "7  0.000000  0.000000  0.000000  0.000000  0.000000  0.000000  0.000000   \n",
      "\n",
      "      7         8         9      ...     17393     17394     17395     17396  \\\n",
      "0  1.529711 -0.314112 -1.216730  ...  0.607840 -0.427878  1.246175 -0.056501   \n",
      "1  0.539436 -0.923897  1.639863  ... -0.247251 -1.443672 -1.099497 -1.483475   \n",
      "2 -1.407374  1.165289  1.366129  ...  0.620152  0.017633  1.098343  0.601025   \n",
      "3 -0.959286 -1.782450 -0.184766  ... -0.347453  1.213477  0.178442 -1.390596   \n",
      "4 -1.738046 -1.085055  1.462769  ...  1.079111 -0.557673 -1.574130  0.447500   \n",
      "5  1.407128 -0.449620 -1.510619  ...  0.478754  1.075566 -0.449620 -0.449620   \n",
      "6  1.831502 -0.891760  1.511411  ... -1.164583 -0.065825 -0.851955 -0.874345   \n",
      "7  0.000000  0.000000  0.000000  ...  0.000000  0.000000  0.000000  0.000000   \n",
      "\n",
      "      17397     17398     17399     17400     17401     17402  \n",
      "0 -1.398324  0.780646  0.442144 -0.773650  1.467236  0.548839  \n",
      "1  0.136727  0.499634 -0.027166  1.337831  0.754839 -0.605475  \n",
      "2 -0.814418 -1.206534 -0.986566 -0.450994  0.993141  0.046324  \n",
      "3  0.318428 -0.946314 -0.839298  1.213477  0.048724 -0.174497  \n",
      "4  0.259234  0.567171  1.286382 -0.566284  0.821953  1.844052  \n",
      "5 -0.847494  0.545067  0.014567  1.075566  0.744004 -0.913807  \n",
      "6  0.546992  0.080123 -0.561717 -0.065825 -1.006196  1.238587  \n",
      "7  0.000000  0.000000  0.000000  0.000000  0.000000  0.000000  \n",
      "\n",
      "[8 rows x 17403 columns] \n",
      "\n",
      "\n"
     ]
    }
   ],
   "source": [
    "\n",
    "#DATA NORMALIZATION\n",
    "\n",
    "#X_TRAIN\n",
    "standard = StandardScaler()\n",
    "x_train = standard.fit_transform(X_train)\n",
    "x_train_norm=pd.DataFrame(x_train).T\n",
    "print(x_train_norm[:10],'\\n\\n')\n",
    "\n",
    "#X_TEST\n",
    "x_test = standard.fit_transform(X_test)\n",
    "x_test_norm=pd.DataFrame(x_test).T\n",
    "print(x_test_norm[:10],'\\n\\n')"
   ]
  },
  {
   "cell_type": "code",
   "execution_count": 15,
   "id": "9b22895c",
   "metadata": {
    "scrolled": false
   },
   "outputs": [
    {
     "data": {
      "image/png": "[encoded data removed]",
      "text/plain": [
       "<Figure size 432x288 with 1 Axes>"
      ]
     },
     "metadata": {
      "needs_background": "light"
     },
     "output_type": "display_data"
    },
    {
     "name": "stdout",
     "output_type": "stream",
     "text": [
      "test accuracy: 98.81054990518876 %\n"
     ]
    }
   ],
   "source": [
    "\n",
    "#without sklearn\n",
    "from sklearn.metrics import classification_report\n",
    "def initialize_weights_and_bias(dimension):\n",
    "    w=np.full((dimension,1),0.01)\n",
    "    b=0.0\n",
    "    return w,b\n",
    "\n",
    "def sigmoid(z):\n",
    "    y_head=1/(1+np.exp(-z))\n",
    "    return y_head\n",
    "\n",
    "def forward_backward_propagation(w,b,x_train_norm,y_head):\n",
    "    z = np.dot(w.T,x_train_norm) + b\n",
    "    y_head = sigmoid(z)\n",
    "    loss = -y_train*np.log(y_head) - (1-y_train)*np.log(1-y_head)\n",
    "    cost = (np.sum(loss)) / x_train_norm.shape[1]\n",
    "    #backward propogation\n",
    "    derivative_weight = (np.dot(x_train_norm,((y_head-y_train).T)))/x_train_norm.shape[1]\n",
    "    derivative_bias = np.sum(y_head-y_train)/x_train_norm.shape[1]\n",
    "    gradients = {\"derivative_weight\": derivative_weight,\"derivative_bias\": derivative_bias}\n",
    "    return cost,gradients\n",
    "\n",
    "def update(w, b, x_train_norm, y_train, learning_rate,number_of_iterarion):\n",
    "    cost_list = []\n",
    "    cost_list2 = []\n",
    "    index = []\n",
    "    # updating(learning) parameters is number_of_iterarion times\n",
    "    for i in range(number_of_iterarion):\n",
    "        # make forward and backward propagation and find cost and gradients\n",
    "        cost,gradients = forward_backward_propagation(w,b,x_train_norm,y_train)\n",
    "        cost_list.append(cost)\n",
    "        # lets update\n",
    "        w = w - learning_rate * gradients[\"derivative_weight\"]\n",
    "        b = b - learning_rate * gradients[\"derivative_bias\"]\n",
    "        if i % 10 == 0:\n",
    "            cost_list2.append(cost)\n",
    "            index.append(i)\n",
    "            #print (\"Cost after iteration %i: %f\" %(i, cost))\n",
    "            parameters = {\"weight\": w,\"bias\": b}\n",
    "    plt.plot(index,cost_list2)\n",
    "    plt.xticks(index,rotation='vertical')\n",
    "    plt.xlabel(\"Number of Iteration\")\n",
    "    plt.ylabel(\"Cost\")\n",
    "    plt.show()\n",
    "    return parameters, gradients, cost_list\n",
    "            \n",
    "def predict(w,b,x_test_norm):\n",
    "    # x_test is a input for forward propagation\n",
    "    z = sigmoid(np.dot(w.T,x_test_norm)+b)\n",
    "    Y_prediction = np.zeros((1,x_test_norm.shape[1]))\n",
    "    # if z is bigger than 0.5, our prediction is Fraud (y_head=1),\n",
    "    # if z is smaller than 0.5, our prediction is zero means not Fraud (y_head=0),\n",
    "    for i in range(z.shape[1]):\n",
    "        if z[0,i]<= 0.5:\n",
    "            Y_prediction[0,i] = 0\n",
    "        else:\n",
    "            Y_prediction[0,i] = 1\n",
    "\n",
    "    return Y_prediction\n",
    "\n",
    "def logistic_regression(x_train_norm, y_train, x_test_norm, y_test, learning_rate ,  num_iterations):\n",
    "    # initialize\n",
    "    dimension =  x_train_norm.shape[0]\n",
    "    w,b = initialize_weights_and_bias(dimension)\n",
    "    \n",
    "    parameters, gradients, cost_list = update(w, b, x_train_norm, y_train, learning_rate,num_iterations)\n",
    "    \n",
    "    y_prediction_test = predict(parameters[\"weight\"],parameters[\"bias\"],x_test_norm)\n",
    "    \n",
    "\n",
    "    # Print train/test Errors\n",
    "    \n",
    "    print(\"test accuracy: {} %\".format(100 - np.mean(np.abs(y_prediction_test - y_test)) * 100))\n",
    "logistic_regression(x_train_norm, y_train, x_test_norm, y_test,learning_rate = 0.01, num_iterations = 100)\n",
    "\n"
   ]
  },
  {
   "cell_type": "code",
   "execution_count": 16,
   "id": "79133302",
   "metadata": {
    "scrolled": false
   },
   "outputs": [
    {
     "data": {
      "text/plain": [
       "'\\ndef sigmoid(input):\\n    return (1/(1+np.exp(-input)))\\n\\ndef optimize(x_train,y_train,lr,it,para):\\n    size=x_train.shape[0]\\n    weight=para[\\'w\\']\\n    bias=para[\\'b\\']\\n    for i in range(it):\\n        sigma = sigmoid(np.dot(x_train, weight.T) + bias)\\n        loss = -1/size * np.sum(y_train * np.log(sigma)) + (1 - y) * np.log(1-sigma)\\n        dW = 1/size * np.dot(x_train.T, (sigma - y_train))\\n        db = 1/size * np.sum(sigma - y_train)\\n        weight -= lr * dW\\n        bias -= lr* db \\n    \\n    para[\"weight\"] = weight\\n    para[\"bias\"] = bias\\n    return para\\n\\n\\ninit_para={}\\ninit_para[\\'w\\']=np.zeros(x_train.shape[1])\\ninit_para[\\'b\\']=0\\n\\ndef train(x_train,y_train,x_test_norm,y_test,lr,i):\\n    para_out=optimize(x_train,y_train,lr,i,init_para)\\n    y_prediction_test = predict(para_out[\"w\"],para_out[\"b\"],x_test_norm)\\n    print(\"test accuracy: {} %\".format(100 - np.mean(np.abs(y_prediction_test - y_test)) * 100))\\n    return para_out\\n    \\npara_out=train(x_train,y_train,x_test_norm,y_test,lr=0.01,i=500)\\nprint(para_out)'"
      ]
     },
     "execution_count": 16,
     "metadata": {},
     "output_type": "execute_result"
    }
   ],
   "source": [
    "#different approach to without sklearn\n",
    "'''\n",
    "def sigmoid(input):\n",
    "    return (1/(1+np.exp(-input)))\n",
    "\n",
    "def optimize(x_train,y_train,lr,it,para):\n",
    "    size=x_train.shape[0]\n",
    "    weight=para['w']\n",
    "    bias=para['b']\n",
    "    for i in range(it):\n",
    "        sigma = sigmoid(np.dot(x_train, weight.T) + bias)\n",
    "        loss = -1/size * np.sum(y_train * np.log(sigma)) + (1 - y) * np.log(1-sigma)\n",
    "        dW = 1/size * np.dot(x_train.T, (sigma - y_train))\n",
    "        db = 1/size * np.sum(sigma - y_train)\n",
    "        weight -= lr * dW\n",
    "        bias -= lr* db \n",
    "    \n",
    "    para[\"weight\"] = weight\n",
    "    para[\"bias\"] = bias\n",
    "    return para\n",
    "\n",
    "\n",
    "init_para={}\n",
    "init_para['w']=np.zeros(x_train.shape[1])\n",
    "init_para['b']=0\n",
    "\n",
    "def train(x_train,y_train,x_test_norm,y_test,lr,i):\n",
    "    para_out=optimize(x_train,y_train,lr,i,init_para)\n",
    "    y_prediction_test = predict(para_out[\"w\"],para_out[\"b\"],x_test_norm)\n",
    "    print(\"test accuracy: {} %\".format(100 - np.mean(np.abs(y_prediction_test - y_test)) * 100))\n",
    "    return para_out\n",
    "    \n",
    "para_out=train(x_train,y_train,x_test_norm,y_test,lr=0.01,i=500)\n",
    "print(para_out)'''"
   ]
  },
  {
   "cell_type": "code",
   "execution_count": 17,
   "id": "6a0f5a9b",
   "metadata": {},
   "outputs": [
    {
     "data": {
      "text/plain": [
       "\"\\nfrom sklearn import utils\\nprint(utils.multiclass.type_of_target(y_train))\\nfrom sklearn.linear_model import LogisticRegression\\nimport pickle\\nmodel=LogisticRegression(random_state=0,solver='liblinear')\\nl=model.fit(x_train,y_train)\\ns=pickle.dumps(model)\\ns1=pickle.loads(s)\\ny_pred=s1.predict(x_test)\\n\\n\\nfrom sklearn.metrics import accuracy_score,confusion_matrix,classification_report\\nprint(accuracy_score(y_test,y_pred)*100)\\n#print(classification_report(y_test,y_pred,zero_division=0))\\nprint(confusion_matrix(y_test,y_pred))\\n\\n\""
      ]
     },
     "execution_count": 17,
     "metadata": {},
     "output_type": "execute_result"
    }
   ],
   "source": [
    "#using sklearn\n",
    "'''\n",
    "from sklearn import utils\n",
    "print(utils.multiclass.type_of_target(y_train))\n",
    "from sklearn.linear_model import LogisticRegression\n",
    "import pickle\n",
    "model=LogisticRegression(random_state=0,solver='liblinear')\n",
    "l=model.fit(x_train,y_train)\n",
    "s=pickle.dumps(model)\n",
    "s1=pickle.loads(s)\n",
    "y_pred=s1.predict(x_test)\n",
    "\n",
    "\n",
    "from sklearn.metrics import accuracy_score,confusion_matrix,classification_report\n",
    "print(accuracy_score(y_test,y_pred)*100)\n",
    "#print(classification_report(y_test,y_pred,zero_division=0))\n",
    "print(confusion_matrix(y_test,y_pred))\n",
    "\n",
    "'''\n"
   ]
  },
  {
   "cell_type": "code",
   "execution_count": null,
   "id": "2b6fb69a",
   "metadata": {},
   "outputs": [],
   "source": []
  },
  {
   "cell_type": "code",
   "execution_count": null,
   "id": "f140e4b9",
   "metadata": {},
   "outputs": [],
   "source": []
  },
  {
   "cell_type": "code",
   "execution_count": null,
   "id": "b7a53399",
   "metadata": {},
   "outputs": [],
   "source": []
  },
  {
   "cell_type": "code",
   "execution_count": null,
   "id": "a2f45e27",
   "metadata": {},
   "outputs": [],
   "source": []
  },
  {
   "cell_type": "code",
   "execution_count": null,
   "id": "f6290a4a",
   "metadata": {},
   "outputs": [],
   "source": []
  },
  {
   "cell_type": "code",
   "execution_count": null,
   "id": "f9f3abf7",
   "metadata": {},
   "outputs": [],
   "source": []
  }
 ],
 "metadata": {
  "kernelspec": {
   "display_name": "Python 3 (ipykernel)",
   "language": "python",
   "name": "python3"
  },
  "language_info": {
   "codemirror_mode": {
    "name": "ipython",
    "version": 3
   },
   "file_extension": ".py",
   "mimetype": "text/x-python",
   "name": "python",
   "nbconvert_exporter": "python",
   "pygments_lexer": "ipython3",
   "version": "3.9.7"
  }
 },
 "nbformat": 4,
 "nbformat_minor": 5
}
