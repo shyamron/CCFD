{
 "cells": [
  {
   "cell_type": "code",
   "execution_count": 13,
   "id": "4e5d60b4",
   "metadata": {},
   "outputs": [
    {
     "name": "stdout",
     "output_type": "stream",
     "text": [
      "<class 'pandas.core.frame.DataFrame'>\n",
      "RangeIndex: 96753 entries, 0 to 96752\n",
      "Data columns (total 10 columns):\n",
      " #   Column             Non-Null Count  Dtype  \n",
      "---  ------             --------------  -----  \n",
      " 0   Recnum             96753 non-null  int64  \n",
      " 1   Cardnum            96753 non-null  int64  \n",
      " 2   Date               96753 non-null  object \n",
      " 3   Merchnum           93374 non-null  object \n",
      " 4   Merch description  96753 non-null  object \n",
      " 5   Merch state        95551 non-null  object \n",
      " 6   Merch zip          92094 non-null  float64\n",
      " 7   Transtype          96753 non-null  object \n",
      " 8   Amount             96753 non-null  float64\n",
      " 9   Fraud              96753 non-null  int64  \n",
      "dtypes: float64(2), int64(3), object(5)\n",
      "memory usage: 7.4+ MB\n",
      "None\n"
     ]
    }
   ],
   "source": [
    "import numpy as np\n",
    "from cmath import nan\n",
    "import pandas as pd\n",
    "from sklearn import preprocessing\n",
    "from sklearn.preprocessing import LabelEncoder\n",
    "from sklearn.model_selection import train_test_split\n",
    "from sklearn.preprocessing import StandardScaler\n",
    "import matplotlib.pyplot as plt\n",
    "import seaborn as sns\n",
    "\n",
    "\n",
    "data=pd.read_csv('data.csv')\n",
    "us=pd.read_csv('uszips.csv')\n",
    "print(data.info())"
   ]
  },
  {
   "cell_type": "code",
   "execution_count": 14,
   "id": "e76367cd",
   "metadata": {
    "scrolled": false
   },
   "outputs": [
    {
     "name": "stdout",
     "output_type": "stream",
     "text": [
      "1202\n",
      "1149\n"
     ]
    }
   ],
   "source": [
    "'''FILL MERCH STATE'''\n",
    "print(np.count_nonzero(data['Merch state'].isnull().values))\n",
    "zip_dict = pd.Series(us.state_id.values,index=us.zip.values).to_dict()\n",
    "data.loc[data['Merch state'].isnull(),'Merch state'] = data['Merch zip'].map(zip_dict)\n",
    "print(np.count_nonzero(data['Merch state'].isnull().values))"
   ]
  },
  {
   "cell_type": "code",
   "execution_count": 15,
   "id": "ecef18bb",
   "metadata": {
    "scrolled": false
   },
   "outputs": [
    {
     "name": "stdout",
     "output_type": "stream",
     "text": [
      "4659\n",
      "1481\n"
     ]
    }
   ],
   "source": [
    "'''FILL MERCH ZIP'''\n",
    "print(np.count_nonzero(data['Merch zip'].isnull().values))\n",
    "state_dict = pd.Series(us.zip.values,index=us.state_id.values).to_dict()\n",
    "data.loc[data['Merch zip'].isnull(),'Merch zip'] = data['Merch state'].map(state_dict)\n",
    "print(np.count_nonzero(data['Merch zip'].isnull().values))"
   ]
  },
  {
   "cell_type": "code",
   "execution_count": 16,
   "id": "233ec94e",
   "metadata": {
    "scrolled": false
   },
   "outputs": [
    {
     "name": "stdout",
     "output_type": "stream",
     "text": [
      "3379\n",
      "3001\n"
     ]
    }
   ],
   "source": [
    "'''FILL MERCH NUM'''\n",
    "print(np.count_nonzero(data['Merchnum'].isnull().values))\n",
    "desc_dict = pd.Series(data.Merchnum.values,index=data['Merch description'].values).to_dict()\n",
    "data.loc[data['Merchnum'].isnull(),'Merchnum'] = data['Merch description'].map(desc_dict)\n",
    "print(np.count_nonzero(data['Merchnum'].isnull().values))"
   ]
  },
  {
   "cell_type": "code",
   "execution_count": 17,
   "id": "691456d6",
   "metadata": {},
   "outputs": [
    {
     "data": {
      "text/plain": [
       "\"FILL MERCH NUM\\nprint(np.count_nonzero(data['Merchnum'].isnull().values))\\nzip1_dict = pd.Series(data.Merchnum.values,index=data['Merch zip'].values).to_dict()\\ndata.loc[data['Merchnum'].isnull(),'Merchnum'] = data['Merch zip'].map(zip1_dict)\\nprint(np.count_nonzero(data['Merchnum'].isnull().values))\\n\""
      ]
     },
     "execution_count": 17,
     "metadata": {},
     "output_type": "execute_result"
    }
   ],
   "source": [
    "'''FILL MERCH NUM\n",
    "print(np.count_nonzero(data['Merchnum'].isnull().values))\n",
    "zip1_dict = pd.Series(data.Merchnum.values,index=data['Merch zip'].values).to_dict()\n",
    "data.loc[data['Merchnum'].isnull(),'Merchnum'] = data['Merch zip'].map(zip1_dict)\n",
    "print(np.count_nonzero(data['Merchnum'].isnull().values))\n",
    "'''"
   ]
  },
  {
   "cell_type": "code",
   "execution_count": 18,
   "id": "4feff892",
   "metadata": {
    "scrolled": true
   },
   "outputs": [
    {
     "name": "stdout",
     "output_type": "stream",
     "text": [
      "0\n",
      "93458\n",
      "87014\n"
     ]
    }
   ],
   "source": [
    "'''REMOVE NULL AND DUPLICATE'''\n",
    "data['Merch zip'].replace('', np.nan, inplace=True)\n",
    "data.dropna(subset=['Merch zip'], inplace=True)\n",
    "\n",
    "data['Merch state'].replace('', np.nan, inplace=True)\n",
    "data.dropna(subset=['Merch state'], inplace=True)\n",
    "\n",
    "data['Merchnum'].replace('', np.nan, inplace=True)\n",
    "data.dropna(subset=['Merchnum'], inplace=True)\n",
    "\n",
    "print(np.count_nonzero(data.isnull().values))\n",
    "print(len(data))\n",
    "\n",
    "data.drop_duplicates(subset=['Cardnum', 'Merchnum','Merch description','Amount','Date','Merch state'],keep='first',inplace=True)\n",
    "print(len(data))"
   ]
  },
  {
   "cell_type": "code",
   "execution_count": 19,
   "id": "fe386a1e",
   "metadata": {
    "scrolled": true
   },
   "outputs": [
    {
     "name": "stdout",
     "output_type": "stream",
     "text": [
      "<class 'pandas.core.frame.DataFrame'>\n",
      "Int64Index: 87014 entries, 0 to 96752\n",
      "Data columns (total 10 columns):\n",
      " #   Column             Non-Null Count  Dtype  \n",
      "---  ------             --------------  -----  \n",
      " 0   Recnum             87014 non-null  int64  \n",
      " 1   Cardnum            87014 non-null  int64  \n",
      " 2   Date               87014 non-null  object \n",
      " 3   Merchnum           87014 non-null  object \n",
      " 4   Merch description  87014 non-null  object \n",
      " 5   Merch state        87014 non-null  object \n",
      " 6   Merch zip          87014 non-null  float64\n",
      " 7   Transtype          87014 non-null  object \n",
      " 8   Amount             87014 non-null  float64\n",
      " 9   Fraud              87014 non-null  int64  \n",
      "dtypes: float64(2), int64(3), object(5)\n",
      "memory usage: 7.3+ MB\n",
      "None\n"
     ]
    }
   ],
   "source": [
    "print(data.info())"
   ]
  },
  {
   "cell_type": "code",
   "execution_count": 20,
   "id": "d6cda72a",
   "metadata": {
    "scrolled": false
   },
   "outputs": [
    {
     "name": "stdout",
     "output_type": "stream",
     "text": [
      "0         4382\n",
      "2         8014\n",
      "5         4380\n",
      "6         4386\n",
      "7         7146\n",
      "         ...  \n",
      "96748     1461\n",
      "96749     6872\n",
      "96750    10718\n",
      "96751     2008\n",
      "96752    10394\n",
      "Name: Merch description, Length: 87014, dtype: int32\n",
      "0            0\n",
      "2            1\n",
      "5            2\n",
      "6            3\n",
      "7            4\n",
      "         ...  \n",
      "96748    87009\n",
      "96749    87010\n",
      "96750    87011\n",
      "96751    87012\n",
      "96752    87013\n",
      "Name: Recnum, Length: 87014, dtype: int64\n",
      "0         657\n",
      "2         177\n",
      "5         318\n",
      "6         645\n",
      "7         662\n",
      "         ... \n",
      "96748    1333\n",
      "96749     946\n",
      "96750     951\n",
      "96751    1096\n",
      "96752    1083\n",
      "Name: Cardnum, Length: 87014, dtype: int64\n",
      "0        2530\n",
      "2        1846\n",
      "5        2530\n",
      "6        2530\n",
      "7        3171\n",
      "         ... \n",
      "96748    1365\n",
      "96749    4846\n",
      "96750    1844\n",
      "96751    5062\n",
      "96752    5677\n",
      "Name: Merchnum, Length: 87014, dtype: int32\n",
      "0          0\n",
      "2          0\n",
      "5          0\n",
      "6          0\n",
      "7          0\n",
      "        ... \n",
      "96748    364\n",
      "96749    364\n",
      "96750    364\n",
      "96751    364\n",
      "96752    364\n",
      "Name: Date, Length: 87014, dtype: int32\n",
      "0        43\n",
      "2        20\n",
      "5        43\n",
      "6        43\n",
      "7        35\n",
      "         ..\n",
      "96748    17\n",
      "96749    35\n",
      "96750    35\n",
      "96751     4\n",
      "96752    31\n",
      "Name: Merch state, Length: 87014, dtype: int32\n",
      "0        2087\n",
      "2        1102\n",
      "5        2087\n",
      "6        2087\n",
      "7        2353\n",
      "         ... \n",
      "96748    2153\n",
      "96749    2318\n",
      "96750    2276\n",
      "96751    4001\n",
      "96752     459\n",
      "Name: Merch zip, Length: 87014, dtype: int64\n",
      "0        1\n",
      "2        1\n",
      "5        1\n",
      "6        1\n",
      "7        1\n",
      "        ..\n",
      "96748    1\n",
      "96749    1\n",
      "96750    1\n",
      "96751    1\n",
      "96752    1\n",
      "Name: Transtype, Length: 87014, dtype: int32\n",
      "0          248\n",
      "2        12356\n",
      "5          253\n",
      "6          248\n",
      "7        14608\n",
      "         ...  \n",
      "96748     6887\n",
      "96749     9111\n",
      "96750    19079\n",
      "96751    32716\n",
      "96752    23142\n",
      "Name: Amount, Length: 87014, dtype: int64\n",
      "<class 'pandas.core.frame.DataFrame'>\n",
      "Int64Index: 87014 entries, 0 to 96752\n",
      "Data columns (total 10 columns):\n",
      " #   Column             Non-Null Count  Dtype\n",
      "---  ------             --------------  -----\n",
      " 0   Recnum             87014 non-null  int64\n",
      " 1   Cardnum            87014 non-null  int64\n",
      " 2   Date               87014 non-null  int32\n",
      " 3   Merchnum           87014 non-null  int32\n",
      " 4   Merch description  87014 non-null  int32\n",
      " 5   Merch state        87014 non-null  int32\n",
      " 6   Merch zip          87014 non-null  int64\n",
      " 7   Transtype          87014 non-null  int32\n",
      " 8   Amount             87014 non-null  int64\n",
      " 9   Fraud              87014 non-null  int64\n",
      "dtypes: int32(5), int64(5)\n",
      "memory usage: 5.6 MB\n",
      "None\n"
     ]
    }
   ],
   "source": [
    "\n",
    "# Convert categorical data into numerical data\n",
    "\n",
    "encoder=preprocessing.LabelEncoder()\n",
    "data['Merch description']=encoder.fit_transform(data['Merch description'])\n",
    "print(data['Merch description'])\n",
    "\n",
    "\n",
    "data['Recnum']=encoder.fit_transform(data['Recnum'])\n",
    "print(data['Recnum'])\n",
    "\n",
    "\n",
    "data['Cardnum']=encoder.fit_transform(data['Cardnum'])\n",
    "print(data['Cardnum'])\n",
    "\n",
    "data['Merchnum']=encoder.fit_transform(data['Merchnum'])\n",
    "print(data['Merchnum'])\n",
    "\n",
    "data['Date']=encoder.fit_transform(data['Date'])\n",
    "print(data['Date'])\n",
    "\n",
    "data['Merch state']=encoder.fit_transform(data['Merch state'])\n",
    "print(data['Merch state'])\n",
    "\n",
    "data['Merch zip']=encoder.fit_transform(data['Merch zip'])\n",
    "print(data['Merch zip'])\n",
    "\n",
    "\n",
    "data['Transtype']=encoder.fit_transform(data['Transtype'])\n",
    "print(data['Transtype'])\n",
    "\n",
    "\n",
    "data['Amount']=encoder.fit_transform(data['Amount'])\n",
    "print(data['Amount'])\n",
    "\n",
    "\n",
    "print(data.info())\n",
    "#data.to_csv('new.csv')"
   ]
  },
  {
   "cell_type": "code",
   "execution_count": 21,
   "id": "7e04d75f",
   "metadata": {
    "scrolled": true
   },
   "outputs": [
    {
     "data": {
      "text/plain": [
       "\"\\nnon_fraud= data[data.Fraud == 0]\\nfraud= data[data.Fraud == 1]\\n\\nprint(non_fraud.shape)\\nprint(fraud.shape)\\n\\nnon_fraud_sample=non_fraud.sample(n=1059)\\n\\nnew_dataset=pd.concat([non_fraud_sample,fraud],axis=0)\\nprint(new_dataset.head())\\n\\nprint(new_dataset['Fraud'].value_counts())\\n\\nx= new_dataset.drop(columns='Fraud',axis=1)\\ny=new_dataset['Fraud']\""
      ]
     },
     "execution_count": 21,
     "metadata": {},
     "output_type": "execute_result"
    }
   ],
   "source": [
    "# Splitting data\n",
    "'''\n",
    "non_fraud= data[data.Fraud == 0]\n",
    "fraud= data[data.Fraud == 1]\n",
    "\n",
    "print(non_fraud.shape)\n",
    "print(fraud.shape)\n",
    "\n",
    "non_fraud_sample=non_fraud.sample(n=1059)\n",
    "\n",
    "new_dataset=pd.concat([non_fraud_sample,fraud],axis=0)\n",
    "print(new_dataset.head())\n",
    "\n",
    "print(new_dataset['Fraud'].value_counts())\n",
    "\n",
    "x= new_dataset.drop(columns='Fraud',axis=1)\n",
    "y=new_dataset['Fraud']'''"
   ]
  },
  {
   "cell_type": "code",
   "execution_count": 22,
   "id": "a1c5258f",
   "metadata": {},
   "outputs": [
    {
     "name": "stdout",
     "output_type": "stream",
     "text": [
      "(69611, 9)\n",
      "(17403, 9)\n",
      "(69611,)\n",
      "(17403,)\n"
     ]
    }
   ],
   "source": [
    "# Splitting data\n",
    "x= data.drop(columns='Fraud',axis=1)\n",
    "y=data['Fraud']\n",
    "\n",
    "X_train,X_test,y_train,y_test=train_test_split(x,y,train_size=0.8,test_size=0.2,random_state=0)\n",
    "print(X_train.shape)\n",
    "print(X_test.shape)\n",
    "print(y_train.shape)\n",
    "print(y_test.shape)"
   ]
  },
  {
   "cell_type": "code",
   "execution_count": 23,
   "id": "d782a4a9",
   "metadata": {
    "scrolled": false
   },
   "outputs": [
    {
     "name": "stdout",
     "output_type": "stream",
     "text": [
      "          0         1         2         3         4         5         6  \\\n",
      "0 -1.326050  0.397987 -0.014127  0.976377 -1.217093  1.480899  0.369700   \n",
      "1  0.074134 -1.276298 -1.227074 -0.936624  0.563742 -0.448592 -0.851712   \n",
      "2  0.074930 -1.262287 -1.227074 -1.381520  0.836757  1.281297 -0.711225   \n",
      "3  0.721818  0.253209  1.714561  0.688566  0.100208 -0.847797  0.619272   \n",
      "4  0.080976  0.318593 -1.112465  0.702015 -0.352939  0.882091 -1.606210   \n",
      "5  1.053297  1.539863  1.428038 -1.381520  0.836757  1.281297 -0.711225   \n",
      "6  0.202303  0.227523  0.262845  1.209853 -0.541082  1.081694 -0.061678   \n",
      "7 -0.810353  0.547435 -1.026508 -1.130829  1.123127 -1.513139  1.410958   \n",
      "8 -1.706338  0.229858 -1.284379 -0.364768  0.438214 -1.313537 -0.931872   \n",
      "9 -0.980290  0.456365  0.683078  0.473380  1.645418 -0.515126 -1.714468   \n",
      "\n",
      "         7         8  \n",
      "0  0.00379 -0.443015  \n",
      "1  0.00379 -1.188477  \n",
      "2  0.00379 -0.810108  \n",
      "3  0.00379 -0.196032  \n",
      "4  0.00379  1.255476  \n",
      "5  0.00379 -0.355066  \n",
      "6  0.00379 -0.931296  \n",
      "7  0.00379 -0.285452  \n",
      "8  0.00379 -0.841876  \n",
      "9  0.00379 -0.212700   \n",
      "\n",
      "\n",
      "          0         1         2         3         4         5         6    7  \\\n",
      "0 -0.073295  0.366424  0.594882 -0.322810 -0.479863 -0.852244  0.553466  0.0   \n",
      "1  1.286392 -1.688626 -1.549885  0.516815  0.130856 -1.517014  1.663994  0.0   \n",
      "2  1.157106 -1.674567 -0.405368 -0.770142 -0.125539 -1.517014  1.641551  0.0   \n",
      "3  0.693878 -1.208255  1.527808  1.038073 -0.857333  0.743203 -1.006759  0.0   \n",
      "4 -1.159352  0.092261 -1.049760 -1.409034  0.612487  0.011956 -0.605273  0.0   \n",
      "5  0.835227  1.359972 -0.530399 -1.396624 -1.555000 -0.453382 -0.841343  0.0   \n",
      "6 -1.625734  0.118037 -0.145688 -0.322810 -0.479863 -0.852244  0.553466  0.0   \n",
      "7  0.255374 -0.479497  0.835327  1.216683  0.550762  0.477295 -1.299353  0.0   \n",
      "8 -1.637597 -1.327762 -0.261101  1.118475  1.262080 -0.453382 -0.869605  0.0   \n",
      "9  1.278364  0.427349 -1.665299 -1.509941  1.690889  1.142064  1.042232  0.0   \n",
      "\n",
      "          8  \n",
      "0  0.505705  \n",
      "1  1.273487  \n",
      "2  1.405702  \n",
      "3  1.883741  \n",
      "4  0.303878  \n",
      "5  0.842669  \n",
      "6 -0.010596  \n",
      "7 -0.353206  \n",
      "8  0.341069  \n",
      "9  0.727589   \n",
      "\n",
      "\n"
     ]
    }
   ],
   "source": [
    "#DATA NORMALIZATION\n",
    "\n",
    "#X_TRAIN\n",
    "standard = StandardScaler()\n",
    "x_train = standard.fit_transform(X_train)\n",
    "x_train_norm=pd.DataFrame(x_train)\n",
    "print(x_train_norm[:10],'\\n\\n')\n",
    "\n",
    "#X_TEST\n",
    "x_test = standard.fit_transform(X_test)\n",
    "x_test_norm=pd.DataFrame(x_test)\n",
    "print(x_test_norm[:10],'\\n\\n')"
   ]
  },
  {
   "cell_type": "code",
   "execution_count": 24,
   "id": "6a0f5a9b",
   "metadata": {},
   "outputs": [],
   "source": [
    "from sklearn.ensemble import RandomForestClassifier\n",
    "random_forest = RandomForestClassifier(n_estimators=50)\n",
    "train = random_forest.fit(x_train_norm,y_train.values.ravel())\n",
    "y_pred = random_forest.predict(x_test_norm)"
   ]
  },
  {
   "cell_type": "code",
   "execution_count": 25,
   "id": "204e27d9",
   "metadata": {
    "scrolled": false
   },
   "outputs": [
    {
     "name": "stdout",
     "output_type": "stream",
     "text": [
      "0.9927024076308683\n",
      "              precision    recall  f1-score   support\n",
      "\n",
      "           0       0.99      1.00      1.00     17186\n",
      "           1       0.96      0.43      0.60       217\n",
      "\n",
      "    accuracy                           0.99     17403\n",
      "   macro avg       0.98      0.72      0.80     17403\n",
      "weighted avg       0.99      0.99      0.99     17403\n",
      "\n"
     ]
    }
   ],
   "source": [
    "from sklearn.metrics import accuracy_score,confusion_matrix,classification_report\n",
    "print(accuracy_score(y_test,y_pred))\n",
    "print(classification_report(y_test,y_pred))"
   ]
  },
  {
   "cell_type": "code",
   "execution_count": 26,
   "id": "21a13fc7",
   "metadata": {},
   "outputs": [
    {
     "name": "stdout",
     "output_type": "stream",
     "text": [
      "[[17182     4]\n",
      " [  123    94]]\n"
     ]
    }
   ],
   "source": [
    "confusion_matrix_var=confusion_matrix(y_test,y_pred)\n",
    "print(confusion_matrix_var)\n"
   ]
  },
  {
   "cell_type": "code",
   "execution_count": 27,
   "id": "697901d0",
   "metadata": {},
   "outputs": [
    {
     "data": {
      "image/png": "[encoded data removed]",
      "text/plain": [
       "<Figure size 864x864 with 2 Axes>"
      ]
     },
     "metadata": {
      "needs_background": "light"
     },
     "output_type": "display_data"
    }
   ],
   "source": [
    "#visulalizing the confusion matrix\n",
    "LABELS = ['Normal', 'Fraud'] \n",
    "plt.figure(figsize =(8, 8)) \n",
    "sns.heatmap(confusion_matrix_var, xticklabels = LABELS, yticklabels = LABELS, annot = True, fmt =\"d\"); \n",
    "plt.title(\"Confusion matrix\") \n",
    "plt.ylabel('True class') \n",
    "plt.xlabel('Predicted class') \n",
    "plt.show() "
   ]
  }
 ],
 "metadata": {
  "kernelspec": {
   "display_name": "minor",
   "language": "python",
   "name": "minor"
  },
  "language_info": {
   "codemirror_mode": {
    "name": "ipython",
    "version": 3
   },
   "file_extension": ".py",
   "mimetype": "text/x-python",
   "name": "python",
   "nbconvert_exporter": "python",
   "pygments_lexer": "ipython3",
   "version": "3.9.7"
  }
 },
 "nbformat": 4,
 "nbformat_minor": 5
}
